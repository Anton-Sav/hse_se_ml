{
 "cells": [
  {
   "cell_type": "markdown",
   "metadata": {
    "slideshow": {
     "slide_type": "slide"
    }
   },
   "source": [
    "<center><img src=\"img/logo_hse_black.jpg\"></center>\n",
    "\n",
    "<h1><center>Data Analysis</center></h1>\n",
    "<h3><center>Andrey Shestakov (<a href=\"mailto:avshestakov@hse.ru\">avshestakov@hse.ru</a>)</center></h3>\n",
    "<hr>\n",
    "<h2><center>Regularization in linear models.</center></h2>\n",
    "<h2><center>Linear classification. Logistic Regression<sup><a href=\"#fn1\" id=\"ref1\">1</a></sup></center></h2>\n",
    "\n",
    "\n",
    "\n",
    "<sup id=\"fn1\">1. Some materials are taken from <a href=\"http://www.machinelearning.ru/wiki/index.php?title=%D0%9C%D0%B0%D1%82%D0%B5%D0%BC%D0%B0%D1%82%D0%B8%D1%87%D0%B5%D1%81%D0%BA%D0%B8%D0%B5_%D0%BC%D0%B5%D1%82%D0%BE%D0%B4%D1%8B_%D1%80%D0%B0%D1%81%D0%BF%D0%BE%D0%B7%D0%BD%D0%B0%D0%B2%D0%B0%D0%BD%D0%B8%D1%8F_%D0%BE%D0%B1%D1%80%D0%B0%D0%B7%D0%BE%D0%B2_%28%D0%BA%D1%83%D1%80%D1%81_%D0%BB%D0%B5%D0%BA%D1%86%D0%B8%D0%B9%2C_%D0%92.%D0%92.%D0%9A%D0%B8%D1%82%D0%BE%D0%B2%29\">machine learning course of Victor Kitov</a></sup>"
   ]
  },
  {
   "cell_type": "code",
   "execution_count": 1,
   "metadata": {
    "slideshow": {
     "slide_type": "notes"
    }
   },
   "outputs": [],
   "source": [
    "%matplotlib inline"
   ]
  },
  {
   "cell_type": "code",
   "execution_count": 2,
   "metadata": {
    "slideshow": {
     "slide_type": "notes"
    }
   },
   "outputs": [],
   "source": [
    "import pandas as pd\n",
    "import numpy as np\n",
    "import matplotlib.pyplot as plt\n",
    "\n",
    "plt.style.use('seaborn-talk')\n",
    "plt.rcParams['figure.figsize'] = (15,12)\n",
    "\n",
    "# Для кириллицы на графиках\n",
    "font = {'family': 'Verdana',\n",
    "        'weight': 'normal'}\n",
    "plt.rc('font', **font)\n",
    "\n",
    "try:\n",
    "    from ipywidgets import interact, IntSlider, fixed, FloatSlider\n",
    "except ImportError:\n",
    "    print(u'Так надо')\n",
    "    \n",
    "import warnings\n",
    "warnings.filterwarnings('ignore')\n",
    "\n",
    "df_auto = pd.read_csv('./data/accord_sedan_training.csv')"
   ]
  },
  {
   "cell_type": "markdown",
   "metadata": {
    "slideshow": {
     "slide_type": "slide"
    }
   },
   "source": [
    "# Let's recall previous lecture\n",
    "\n",
    "* Linear regression\n",
    "    * linear dependence between target features and predictors\n",
    "\n",
    "$$f(x_{n}, \\beta) = \\hat{y}_{n} = \\beta_0 + \\beta_1x_{n}^1 + \\dots$$\n",
    "\n",
    "* Optimize Ordinary Least Squares\n",
    "* Solution can be found \n",
    "    * analytically \n",
    "    * with gradient descent"
   ]
  },
  {
   "cell_type": "markdown",
   "metadata": {
    "slideshow": {
     "slide_type": "slide"
    }
   },
   "source": [
    "# Regularization & restrictions"
   ]
  },
  {
   "cell_type": "markdown",
   "metadata": {
    "slideshow": {
     "slide_type": "subslide"
    }
   },
   "source": [
    "## Intuition\n",
    "\n",
    "<center><img width=800, src=http://www.holehouse.org/mlclass/10_Advice_for_applying_machine_learning_files/Image%20[8].png></center>\n",
    "[Andrew's Ng Machine Learning Class - Stanford]"
   ]
  },
  {
   "cell_type": "markdown",
   "metadata": {
    "slideshow": {
     "slide_type": "subslide"
    }
   },
   "source": [
    "## Regularization \n",
    "* Regularization - technique that reduces model complexity to prevent overfitting\n",
    "* Desired outcomes:\n",
    "    * train loss goes up\n",
    "    * test loss goes down\n",
    "* Have we already seen it?"
   ]
  },
  {
   "cell_type": "markdown",
   "metadata": {
    "slideshow": {
     "slide_type": "subslide"
    }
   },
   "source": [
    "## Regularization \n",
    "\n",
    "* Insert additional requirement for regularizer $R(\\beta)$ to be small:\n",
    "$$\n",
    "\\sum_{n=1}^{N}\\left(x_{n}^{T}\\beta-y_{n}\\right)^{2}+\\lambda R(\\beta)\\to\\min_{\\beta}\n",
    "$$\n",
    "* $\\lambda>0$ - hyperparameter.\n",
    "* $R(\\beta)$ penalizes complexity of models.\n",
    "$$\n",
    "\\begin{array}{ll}\n",
    "R(\\beta)=||\\beta||_{1} & \\mbox{Lasso regression}\\\\\n",
    "R(\\beta)=||\\beta||_{2}^{2} & \\text{Ridge regression}\n",
    "\\end{array}\n",
    "$$\n",
    "\n",
    "\n",
    "* Not only **accuracy** matters for the solution but also **model simplicity**!\n",
    "* $\\lambda$ controls complexity of the model:$\\uparrow\\lambda\\Leftrightarrow\\text{complexity}$$\\downarrow$.\n"
   ]
  },
  {
   "cell_type": "markdown",
   "metadata": {
    "slideshow": {
     "slide_type": "subslide"
    }
   },
   "source": [
    "## Comments\n",
    "* Dependency of $\\beta$ from $\\lambda$ for ridge (A) and LASSO (B):\n",
    "<center><img src=\"img/regularization paths.png\"></center>\n",
    "\n",
    "* LASSO can be used for automatic feature selection.\n",
    "* $\\lambda$ is usually found using cross-validation on exponential grid, e.g. $[10^{-6},10^{-5},...10^{5},10^{6}]$.\n",
    "* It's always recommended to use regularization because \n",
    "    * it gives smooth control over model complexity.\n",
    "    * reduces ambiguity for multiple solutions case."
   ]
  },
  {
   "cell_type": "markdown",
   "metadata": {
    "slideshow": {
     "slide_type": "subslide"
    }
   },
   "source": [
    "<center><img src=img/regul.jpg></center>\n"
   ]
  },
  {
   "cell_type": "code",
   "execution_count": 3,
   "metadata": {
    "slideshow": {
     "slide_type": "skip"
    }
   },
   "outputs": [],
   "source": [
    "from sklearn.linear_model import Lasso, Ridge"
   ]
  },
  {
   "cell_type": "code",
   "execution_count": 4,
   "metadata": {
    "slideshow": {
     "slide_type": "subslide"
    }
   },
   "outputs": [
    {
     "data": {
      "text/html": [
       "<div>\n",
       "<style scoped>\n",
       "    .dataframe tbody tr th:only-of-type {\n",
       "        vertical-align: middle;\n",
       "    }\n",
       "\n",
       "    .dataframe tbody tr th {\n",
       "        vertical-align: top;\n",
       "    }\n",
       "\n",
       "    .dataframe thead th {\n",
       "        text-align: right;\n",
       "    }\n",
       "</style>\n",
       "<table border=\"1\" class=\"dataframe\">\n",
       "  <thead>\n",
       "    <tr style=\"text-align: right;\">\n",
       "      <th></th>\n",
       "      <th>mileage</th>\n",
       "      <th>kilometrage</th>\n",
       "      <th>price</th>\n",
       "    </tr>\n",
       "  </thead>\n",
       "  <tbody>\n",
       "    <tr>\n",
       "      <th>0</th>\n",
       "      <td>67697</td>\n",
       "      <td>108315.2</td>\n",
       "      <td>14995</td>\n",
       "    </tr>\n",
       "    <tr>\n",
       "      <th>1</th>\n",
       "      <td>73738</td>\n",
       "      <td>117980.8</td>\n",
       "      <td>11988</td>\n",
       "    </tr>\n",
       "    <tr>\n",
       "      <th>2</th>\n",
       "      <td>80313</td>\n",
       "      <td>128500.8</td>\n",
       "      <td>11999</td>\n",
       "    </tr>\n",
       "    <tr>\n",
       "      <th>3</th>\n",
       "      <td>86096</td>\n",
       "      <td>137753.6</td>\n",
       "      <td>12995</td>\n",
       "    </tr>\n",
       "    <tr>\n",
       "      <th>4</th>\n",
       "      <td>79607</td>\n",
       "      <td>127371.2</td>\n",
       "      <td>11333</td>\n",
       "    </tr>\n",
       "  </tbody>\n",
       "</table>\n",
       "</div>"
      ],
      "text/plain": [
       "   mileage  kilometrage  price\n",
       "0    67697     108315.2  14995\n",
       "1    73738     117980.8  11988\n",
       "2    80313     128500.8  11999\n",
       "3    86096     137753.6  12995\n",
       "4    79607     127371.2  11333"
      ]
     },
     "execution_count": 4,
     "metadata": {},
     "output_type": "execute_result"
    }
   ],
   "source": [
    "df_auto = df_auto.assign(kilometrage = lambda r: r.mileage*1.6)\n",
    "df_auto.loc[:, ['mileage', 'kilometrage', 'price']].head()"
   ]
  },
  {
   "cell_type": "code",
   "execution_count": 11,
   "metadata": {
    "slideshow": {
     "slide_type": "subslide"
    }
   },
   "outputs": [
    {
     "name": "stdout",
     "output_type": "stream",
     "text": [
      "Модель:\n",
      "price = 16762.02 + (-0.05)*mileage + (-0.00)*kilometrage\n"
     ]
    },
    {
     "data": {
      "image/png": "[encoded data removed]",
      "text/plain": [
       "<Figure size 1080x864 with 1 Axes>"
      ]
     },
     "metadata": {
      "needs_background": "light"
     },
     "output_type": "display_data"
    }
   ],
   "source": [
    "X_train = df_auto.loc[:, ['mileage', 'kilometrage']].values\n",
    "y_train = df_auto.price.values\n",
    "\n",
    "model = Lasso()\n",
    "# model = Ridge()\n",
    "model.fit(X_train, y_train)\n",
    "\n",
    "print('Модель:\\nprice = %.2f + (%.2f)*mileage + (%.2f)*kilometrage' % (model.intercept_, model.coef_[0], model.coef_[1],))\n",
    "\n",
    "y_hat = model.predict(X_train)\n",
    "\n",
    "df_auto.plot(x='mileage', y='price', kind='scatter')\n",
    "_ = plt.plot(X_train[:, 0], y_hat, c='r')"
   ]
  },
  {
   "cell_type": "markdown",
   "metadata": {
    "slideshow": {
     "slide_type": "subslide"
    }
   },
   "source": [
    "## ElasticNet\n",
    "* ElasticNet:\n",
    "\n",
    "$$\n",
    "R(\\beta)=\\alpha||\\beta||_{1}+(1-\\alpha)||\\beta||_{2}^{2}\\to\\min_{\\beta}\n",
    "$$\n",
    "$\\alpha\\in(0,1)$ - hyperparameter, controlling impact of each part. \n",
    "\n",
    "* If two features $x^{i}$and $x^{j}$ are equal: \n",
    "    * LASSO may take only one of them\n",
    "    * Ridge will take both with equal weight\n",
    "        * but it doesn't remove useless features\n",
    "* ElasticNet both removes useless features but gives equal weight for usefull equal features\n",
    "    * good, because feature equality may be due to chance on this particular training set"
   ]
  },
  {
   "cell_type": "markdown",
   "metadata": {
    "slideshow": {
     "slide_type": "subslide"
    }
   },
   "source": [
    "## Wisdom of the day\n",
    "\n",
    "<center><img src='img/overfit-death.jpeg'></center>"
   ]
  },
  {
   "cell_type": "markdown",
   "metadata": {
    "slideshow": {
     "slide_type": "fragment"
    }
   },
   "source": [
    "### Overfitting = Death"
   ]
  },
  {
   "cell_type": "markdown",
   "metadata": {
    "slideshow": {
     "slide_type": "slide"
    }
   },
   "source": [
    "# Linear Classification (in general)"
   ]
  },
  {
   "cell_type": "markdown",
   "metadata": {
    "slideshow": {
     "slide_type": "subslide"
    }
   },
   "source": [
    "<center><img src='https://upload.wikimedia.org/wikipedia/commons/thumb/b/b5/Svm_separating_hyperplanes_%28SVG%29.svg/512px-Svm_separating_hyperplanes_%28SVG%29.svg.png'></center>\n",
    "\n",
    "$$w_1x_1 + w_2x_2 + w_0 = w^{T}x+w_{0}=0$$\n",
    "$$ y \\in \\{-1,+1\\}$$\n",
    "\n",
    "* Given weights $w$ and $w_0$ and feature vector $x$ we can\n",
    "    * tell if $x$ is \"below\" or \"above\" hyperplane\n",
    "    * tell how far is $x$ from hyperplane"
   ]
  },
  {
   "cell_type": "markdown",
   "metadata": {
    "slideshow": {
     "slide_type": "subslide"
    }
   },
   "source": [
    "## Analytical geometry reminder"
   ]
  },
  {
   "cell_type": "markdown",
   "metadata": {
    "slideshow": {
     "slide_type": "subslide"
    }
   },
   "source": [
    "## Reminder\n",
    "\n",
    "* $a=[a^{1},...a^{D}]^{T},\\,b=[b^{1},...b^{D}]^{T}$\n",
    "* Scalar product $\\langle a,b\\rangle=a^{T}b=\\sum_{d=1}^{D}a_{d}b_{b}$ \n",
    "* $a\\perp b$ means that $\\langle a,b\\rangle=0$\n",
    "* Norm $\\left\\lVert a\\right\\rVert =\\sqrt{\\langle a,a\\rangle}$\n",
    "* Distance $\\rho(a,b)=\\left\\lVert a-b\\right\\rVert =\\sqrt{\\langle a-b,a-b\\rangle}$\n",
    "\n",
    "\n",
    "<center><img src=\"img/projection.png\"></center>\n",
    "\n",
    "* $p=\\langle a,\\frac{b}{\\left\\lVert b\\right\\rVert }\\rangle$\n",
    "* $\\left|p\\right|=\\left|\\langle a,\\frac{b}{\\left\\lVert b\\right\\rVert }\\rangle\\right|$-\n",
    "unsigned projection length\n"
   ]
  },
  {
   "cell_type": "markdown",
   "metadata": {
    "slideshow": {
     "slide_type": "subslide"
    }
   },
   "source": [
    "## Orthogonal vector to hyperplane\n",
    "\n",
    "### Theorem 1\n",
    "Vector $w$ is orthogonal to hyperplane $w^{T}x+w_{0}=0$\n",
    "\n",
    "**Proof:**\n",
    "Consider arbitrary $x_{A},x_{B}\\in\\{x:\\,w^{T}x+w_{0}=0\\}$:\n",
    "$$\n",
    "\\begin{align}\n",
    "w^{T}x_{A}+w_{0}=0 \\quad \\text{   (1)}\\\\\n",
    "w^{T}x_{B}+w_{0}=0 \\quad \\text{   (2)}\n",
    "\\end{align}\n",
    "$$\n",
    "By substracting (2) from (1), obtain $w^{T}(x_{A}-x_{B})=0$,\n",
    "so $w$ is orthogonal to hyperplane.\n"
   ]
  },
  {
   "cell_type": "markdown",
   "metadata": {
    "slideshow": {
     "slide_type": "subslide"
    }
   },
   "source": [
    "<center><img src='img\\Linear discriminant function 2.png'></center>"
   ]
  },
  {
   "cell_type": "markdown",
   "metadata": {
    "slideshow": {
     "slide_type": "subslide"
    }
   },
   "source": [
    "## Distance from point to hyperplane\n",
    "\n",
    "### Theorem 2\n",
    "Distance from point $x$ to hyperplane\n",
    "$w^{T}x+w_{0}=0$ is equal to $\\frac{w^{T}x+w_{0}}{\\left\\lVert w\\right\\rVert }$.\n",
    "\n",
    "**Proof:** Project $x$ on the hyperplane, let the projection\n",
    "be $t$ and complement $h=x-t$, orthogonal to hyperplane. Then\n",
    "$$\n",
    "x=t+h\n",
    "$$\n",
    "\n",
    "Since $t$ lies on the hyperplane, \n",
    "$$\n",
    "w^{T}t+w_{0}=0\n",
    "$$\n",
    "\n",
    "Since $h$ is orthogonal to hyperplane and according to theorem 1\n",
    "$$\n",
    "h=r\\frac{w}{\\left\\lVert w\\right\\rVert },\\,r\\in\\mathbb{R}\\text{ - distance to hyperplane}.\n",
    "$$"
   ]
  },
  {
   "cell_type": "markdown",
   "metadata": {
    "slideshow": {
     "slide_type": "subslide"
    }
   },
   "source": [
    "## Distance from point to hyperplane\n",
    "\n",
    "$$\n",
    "x=t+r\\frac{w}{\\left\\lVert w\\right\\rVert }\n",
    "$$\n",
    "\n",
    "After multiplication by $w$ and addition of $w_{0}$:\n",
    "$$\n",
    "w^{T}x+w_{0}=w^{T}t+w_{0}+r\\frac{w^{T}w}{\\left\\lVert w\\right\\rVert }=r\\left\\lVert w\\right\\rVert \n",
    "$$\n",
    "\n",
    "because $w^{T}t+w_{0}=0$ and $\\left\\lVert w\\right\\rVert =\\sqrt{w^{T}w}$.\n",
    "So we get, that \n",
    "$$\n",
    "r=\\frac{w^{T}x+w_{0}}{\\left\\lVert w\\right\\rVert }\n",
    "$$\n",
    "\n",
    "**Comments:**\n",
    "* From one side of hyperplane $r>0\\Leftrightarrow w^{T}x+w_{0}>0$\n",
    "* From the other side $r<0\\Leftrightarrow w^{T}x+w_{0}<0$. \n",
    "* Distance from hyperplane to origin 0 is $\\frac{w_{0}}{\\left\\lVert w\\right\\rVert }$.\n",
    "So $w_{0}$ accounts for hyperplane offset."
   ]
  },
  {
   "cell_type": "markdown",
   "metadata": {
    "slideshow": {
     "slide_type": "subslide"
    }
   },
   "source": [
    "## Binary linear classifier geometric interpretation\n",
    "\n",
    "Binary linear classifier:\n",
    "$$\n",
    "\\widehat{y}(x)= sign\\left(w^{T}x+w_{0}\\right)\n",
    "$$\n",
    "\n",
    "divides feature space by hyperplane $w^{T}x+w_{0}=0$.\n",
    "\n",
    "* Confidence of decision is proportional to distance to hyperplane $\\frac{\\left|w^{T}x+w_{0}\\right|}{\\left\\lVert w\\right\\rVert }$.\n",
    "* $w^{T}x+w_{0}$ is the confidence that class is positive.\n"
   ]
  },
  {
   "cell_type": "markdown",
   "metadata": {
    "slideshow": {
     "slide_type": "subslide"
    }
   },
   "source": [
    "Consider the following objects\n",
    "\n",
    "| x1 | x2 |\n",
    "|---|---|\n",
    "| 0 | 1 |\n",
    "| 1 | 0 |\n",
    "| 1 | 1 |\n",
    "| 2 | 2 |\n",
    "| 2 | 3 |\n",
    "| 3 | 2 |\n",
    "\n",
    "Find class prediction if $(w_0 = -0.3 , w_1 = 0.1, w_2 = 0.1)$"
   ]
  },
  {
   "cell_type": "markdown",
   "metadata": {
    "slideshow": {
     "slide_type": "subslide"
    }
   },
   "source": [
    "# Fitting weights\n",
    "## Margin of binary linear classifier\n",
    "\n",
    "$$\n",
    "M(x,y) =y\\cdot\\left(w^{T}x+w_{0}\\right)\n",
    "$$\n",
    "\n",
    "* $ y \\in \\{-1,+1\\}$ \n",
    "* Margin = score, how well classifier predicted true $y$ for object $x$.\n",
    "* $M(x,y|w)>0$ $\\Leftrightarrow$ object $x$ is correctly classified as $y$\n",
    "    * signs of $w^{T}x+w_{0}$ and $y$ coincide\n",
    "* $|M(x,y|w)|=\\left|w^{T}x+w_{0}\\right|$ - confidence of decision\n",
    "    * proportional to distance from $x$ to hyperplane $w^{T}x+w_{0}=0$."
   ]
  },
  {
   "cell_type": "markdown",
   "metadata": {
    "slideshow": {
     "slide_type": "subslide"
    }
   },
   "source": [
    "## Margin\n",
    "\n",
    "<center><img src=\"img/Different margin objects.png\"></center>"
   ]
  },
  {
   "cell_type": "markdown",
   "metadata": {
    "slideshow": {
     "slide_type": "subslide"
    }
   },
   "source": [
    "## Misclassification rate optimization\n",
    "\n",
    "* Misclassification rate optimization:\n",
    "$$\n",
    "\\frac{1}{N}\\sum_{n=1}^{N}\\mathbb{I}[M(x_{n},y_{n}|w)<0]\\to\\min_{w}\n",
    "$$\n",
    "\n"
   ]
  },
  {
   "cell_type": "markdown",
   "metadata": {
    "slideshow": {
     "slide_type": "fragment"
    }
   },
   "source": [
    "is not recommended:\n",
    "* discontinous function, can't use numerical optimization!\n",
    "* continous margin is more informative than binary error indicator.\n",
    "\n",
    "* If we select loss function $\\mathcal{L}(M)$ such that $\\mathbb{I}[M]\\le\\mathcal{L}(M)$\n",
    "then we can optimize upper bound on misclassification rate:\n",
    "$$\n",
    "\\begin{gathered}\\begin{gathered}\\text{MISCLASSIFICATION RATE}\\end{gathered}\n",
    "=\\frac{1}{N}\\sum_{n=1}^{N}\\mathbb{I}[M(x_{n},y_{n}|w)<0]\\\\\n",
    "\\le\\frac{1}{N}\\sum_{n=1}^{N}\\mathcal{L}(M(x_{n},y_{n}|w))=L(w)\n",
    "\\end{gathered}\n",
    "$$\n"
   ]
  },
  {
   "cell_type": "markdown",
   "metadata": {
    "slideshow": {
     "slide_type": "subslide"
    }
   },
   "source": [
    "## Optimization problem\n",
    "* Margin = score, how well classifier predicted true $y$ for object $x$.\n",
    "* Task: select such $w$ to increase $M(x_{n},y_{n}|w)$ for all $n$. \n",
    "* Formalization:\n",
    "$$\n",
    "\\frac{1}{N}\\sum_{n=1}^{N}\\mathcal{L}\\left(M(x_{n},y_{n}|w)\\right)\\to\\min_{w}\n",
    "$$"
   ]
  },
  {
   "cell_type": "markdown",
   "metadata": {
    "slideshow": {
     "slide_type": "subslide"
    }
   },
   "source": [
    "## Common loss functions\n",
    "\n",
    "<center><img src=\"img/Error indicator approximations.png\"></center>"
   ]
  },
  {
   "cell_type": "markdown",
   "metadata": {
    "slideshow": {
     "slide_type": "slide"
    }
   },
   "source": [
    "# Optimization procedure"
   ]
  },
  {
   "cell_type": "markdown",
   "metadata": {
    "slideshow": {
     "slide_type": "fragment"
    }
   },
   "source": [
    "Same story as in linear regression \n",
    "* analytical solution (if possible) \n",
    "* or gradient descent (most usual case)"
   ]
  },
  {
   "cell_type": "markdown",
   "metadata": {
    "slideshow": {
     "slide_type": "slide"
    }
   },
   "source": [
    "# Regularization"
   ]
  },
  {
   "cell_type": "markdown",
   "metadata": {
    "slideshow": {
     "slide_type": "fragment"
    }
   },
   "source": [
    "Same story as in linear regression\n",
    "* add regularization terms to initial loss function\n",
    "* question: is it good idea to regularize intercept?"
   ]
  },
  {
   "cell_type": "markdown",
   "metadata": {
    "slideshow": {
     "slide_type": "subslide"
    }
   },
   "source": [
    "<center><img src='img/overfitting.jpg'></center>"
   ]
  },
  {
   "cell_type": "markdown",
   "metadata": {
    "slideshow": {
     "slide_type": "subslide"
    }
   },
   "source": [
    "## $L_{1}$ regularization\n",
    "\n",
    "\n",
    "* $||w||_{1}$ regularizer should do feature selection.\n",
    "\n",
    "* Consider \n",
    "$$\n",
    "L(w)=\\sum_{n=1}^{N}\\mathcal{L}\\left(M(x_{n},y_{n}|w)\\right)+\\lambda\\sum_{d=1}^{D}|w_{d}|\n",
    "$$\n",
    "\n",
    "* And gradient updates\n",
    "$$\n",
    "\\frac{\\partial}{\\partial w_{i}}L(w)=\\sum_{n=1}^{N}\\frac{\\partial}{\\partial w_{i}}\\mathcal{L}\\left(M(x_{n},y_{n}|w)\\right)+\\lambda sign (w_{i})\n",
    "$$\n",
    "\n",
    "$$\n",
    "\\lambda sign (w_{i})\\nrightarrow0\\text{ when }w_{i}\\to0\n",
    "$$\n"
   ]
  },
  {
   "cell_type": "markdown",
   "metadata": {
    "slideshow": {
     "slide_type": "subslide"
    }
   },
   "source": [
    "## $L_{2}$ regularization\n",
    "\n",
    "$$\n",
    "L(w)=\\sum_{n=1}^{N}\\mathcal{L}\\left(M(x_{n},y_{n}|w)\\right)+\\lambda\\sum_{d=1}^{D}w_{d}^{2}\n",
    "$$\n",
    "\n",
    "$$\n",
    "\\frac{\\partial}{\\partial w_{i}}L(w)=\\sum_{n=1}^{N}\\frac{\\partial}{\\partial w_{i}}\\mathcal{L}\\left(M(x_{n},y_{n}|w)\\right)+2\\lambda w_{i}\n",
    "$$\n",
    "$$\n",
    "2\\lambda w_{i}\\to0\\text{ when }w_{i}\\to0\n",
    "$$\n",
    "\n",
    "* Strength of regularization $\\to0$ as weights $\\to0$.\n",
    "* So $L_{2}$ regularization will not set weights exactly to 0."
   ]
  },
  {
   "cell_type": "markdown",
   "metadata": {
    "slideshow": {
     "slide_type": "slide"
    }
   },
   "source": [
    "# Logistic Regression\n",
    "\n",
    "* solves classification tasks #mindblown"
   ]
  },
  {
   "cell_type": "markdown",
   "metadata": {
    "slideshow": {
     "slide_type": "subslide"
    }
   },
   "source": [
    "## Binary classification\n",
    "\n",
    "* Linear classifier:\n",
    "$$\n",
    "score(y=+1|x)=w^{T}x + w_0 = g(x)\n",
    "$$\n",
    "* +relationship between score and class probability is assumed:\n",
    "$$\n",
    "p(y=+1|x)=\\sigma(w^{T}x + w_0)\n",
    "$$\n",
    "\n",
    "where $\\sigma(z)=\\frac{1}{1+e^{-z}}$ - sigmoid function\n"
   ]
  },
  {
   "cell_type": "code",
   "execution_count": 6,
   "metadata": {
    "slideshow": {
     "slide_type": "notes"
    }
   },
   "outputs": [],
   "source": [
    "def demo_sigmoid():\n",
    "    z = np.linspace(-10, 10, 100)\n",
    "\n",
    "    y = sigmoid(z)\n",
    "    plt.plot(z, y)\n",
    "    plt.xlabel('$z$')\n",
    "    plt.ylabel('$\\sigma(z)$')\n",
    "    \n",
    "def sigmoid(z): \n",
    "    return 1./(1+np.exp(-z))"
   ]
  },
  {
   "cell_type": "code",
   "execution_count": 7,
   "metadata": {
    "scrolled": false,
    "slideshow": {
     "slide_type": "subslide"
    }
   },
   "outputs": [
    {
     "data": {
      "image/png": "[encoded data removed]",
      "text/plain": [
       "<Figure size 1080x864 with 1 Axes>"
      ]
     },
     "metadata": {
      "needs_background": "light"
     },
     "output_type": "display_data"
    }
   ],
   "source": [
    "\n",
    "demo_sigmoid() "
   ]
  },
  {
   "cell_type": "markdown",
   "metadata": {
    "slideshow": {
     "slide_type": "subslide"
    }
   },
   "source": [
    "<center><img src='img/prob.png' width=600></center>"
   ]
  },
  {
   "cell_type": "markdown",
   "metadata": {
    "slideshow": {
     "slide_type": "subslide"
    }
   },
   "source": [
    "## Binary classification: estimation\n",
    "\n",
    "* Given our assumption:\n",
    "    * $p(y=+1|x)=\\sigma(w^{T}x + w_0)$\n",
    "    * $p(y=-1|x)=1 - p(y=+1|x)$\n",
    "* we can write down Likelihood function:\n",
    "$$ \\mathcal{L}(w) = \\prod_{n=1}^N p(y_n=+1|x_n)^{\\mathbb{I}[y_n = +1]} p(y_n=-1|x_n)^{\\mathbb{I}[y_n = -1]} \\rightarrow \\max_w$$\n",
    "\n",
    "* Get rid if products:\n",
    "$$ -\\ln{\\mathcal{L}(w)} = - \\sum_{n=1}^N \\mathbb{I}[y_n = +1]\\cdot\\ln{\\sigma(w^{T}x_n+w_0))} + \\mathbb{I}[y_n = -1]\\cdot\\ln{(1-\\sigma(w^{T}x_n+w_0))} \\rightarrow \\min_w$$\n",
    "$$L(w) = -\\ln{\\mathcal{L}(w)} \\rightarrow \\min_w $$\n",
    "\n",
    "* Function $L(w)$ is also called log-loss"
   ]
  },
  {
   "cell_type": "code",
   "execution_count": 16,
   "metadata": {
    "slideshow": {
     "slide_type": "notes"
    }
   },
   "outputs": [],
   "source": [
    "## Еще раз про logloss\n",
    "def plot_logloss():\n",
    "    h = np.linspace(0, 1, 100) # вероятность класса +1, которую дает классификатор\n",
    "    L1 = -np.log2(h) # полагаем, то объект относится к классу +1. Тогда это значение его ошибки logloss\n",
    "    L2 = -np.log2(1-h) # полагаем, то объект относится к классу -1. Тогда это значение его ошибки logloss\n",
    "\n",
    "    plt.plot(h, L1, label='logloss if y = +1')\n",
    "    plt.plot(h, L2, label='logloss if y = -1')\n",
    "    plt.ylabel('logloss')\n",
    "    plt.xlabel('classifier probability of +1')\n",
    "    _ = plt.legend()"
   ]
  },
  {
   "cell_type": "code",
   "execution_count": 17,
   "metadata": {
    "scrolled": false,
    "slideshow": {
     "slide_type": "subslide"
    }
   },
   "outputs": [
    {
     "data": {
      "image/png": "[encoded data removed]",
      "text/plain": [
       "<Figure size 1080x864 with 1 Axes>"
      ]
     },
     "metadata": {
      "needs_background": "light"
     },
     "output_type": "display_data"
    }
   ],
   "source": [
    "plot_logloss()"
   ]
  },
  {
   "cell_type": "code",
   "execution_count": 8,
   "metadata": {
    "slideshow": {
     "slide_type": "notes"
    }
   },
   "outputs": [],
   "source": [
    "from sklearn.metrics import log_loss\n",
    "def linedist_demo(w1=1., \n",
    "                  w2=-1., \n",
    "                  w0=0.):\n",
    "\n",
    "    z = w1**2+w2**2\n",
    "\n",
    "    X = np.array([\n",
    "        [-2.5,1],\n",
    "        [-1,1],\n",
    "        [-3,1],\n",
    "        [1,-1],\n",
    "        [2,-5],\n",
    "        [3,-2]\n",
    "    ])\n",
    "\n",
    "    obs_texts = ['$p_{}$'.format(i) for i in range(1,X.shape[0]+1)]\n",
    "\n",
    "    x_range = np.arange(-5,5)\n",
    "\n",
    "    y = np.array([-1,-1,-1,1,1,1])\n",
    "\n",
    "    model = lambda x: w1*x[0] + w2*x[1] + w0\n",
    "    model_line = lambda x1: -w1/w2*x1 - w0/w2\n",
    "\n",
    "    y_hat = np.apply_along_axis(model, 1, X)\n",
    "    prob = sigmoid(y_hat)\n",
    "    y_line = model_line(x_range)\n",
    "\n",
    "    x_proj = X - y_hat.reshape(-1,1)*np.array([[w1/z,w2/z]])\n",
    "    \n",
    "    _, ax = plt.subplots(1,2)\n",
    "\n",
    "    ax[0].scatter(X[:, 0], X[:, 1], c=y, s=100, cmap=plt.cm.Spectral)\n",
    "    ax[0].scatter(x_proj[:, 0], x_proj[:, 1])\n",
    "    for i, p in enumerate(X):\n",
    "        ax[0].text(p[0], p[1], obs_texts[i], size=20, multialignment='right')\n",
    "        ax[0].plot([X[i,0], x_proj[i,0]], [X[i,1], x_proj[i,1]], '--', c='grey', )\n",
    "\n",
    "    ax[0].plot(x_range, y_line, label='$g(x)={:+6.1f}\\cdot x_1 {:+6.1f}\\cdot x_2  {:+6.1f}$'.format(w1,w2,w0))\n",
    "    \n",
    "    ax[0].set_aspect('equal', adjustable='box')\n",
    "    ax[0].set_xlim(-6, 5)\n",
    "    ax[0].set_ylim(-6, 4)\n",
    "    ax[0].set_xlabel('$x_1$')\n",
    "    ax[0].set_ylabel('$x_2$')\n",
    "    ax[0].legend(loc=4)\n",
    "    \n",
    "    df = pd.DataFrame(data = np.c_[X, y, np.round(y_hat, 4), np.round(prob,4)], \n",
    "                      index=obs_texts, \n",
    "                      columns=['x1', 'x2', 'class', 'g(x)', 'sigmoid'])\n",
    "    \n",
    "    \n",
    "    \n",
    "    font_size=12\n",
    "    bbox=[0, 0, 1, 1]\n",
    "    ax[1].axis('off')\n",
    "    colors = ['r','r','r','#1ac3f5','#1ac3f5','#1ac3f5']\n",
    "    mpl_table = ax[1].table(cellText = df.values, bbox=bbox, \n",
    "                            rowLabels = df.index, \n",
    "                            colLabels=df.columns, rowColours=colors, alpha=0.4)\n",
    "    mpl_table.auto_set_font_size(False)\n",
    "    mpl_table.set_fontsize(font_size)\n",
    "\n",
    "    plt.show()\n",
    "    display('Logloss = {}'.format(log_loss(y, prob)))"
   ]
  },
  {
   "cell_type": "code",
   "execution_count": 9,
   "metadata": {
    "slideshow": {
     "slide_type": "subslide"
    }
   },
   "outputs": [
    {
     "data": {
      "application/vnd.jupyter.widget-view+json": {
       "model_id": "f134072f72b6496ba6e94b9d3f3f4422",
       "version_major": 2,
       "version_minor": 0
      },
      "text/plain": [
       "interactive(children=(FloatSlider(value=1.0, description='w1', max=5.0, min=-5.0, step=0.5), FloatSlider(value…"
      ]
     },
     "metadata": {},
     "output_type": "display_data"
    }
   ],
   "source": [
    "_ = interact(linedist_demo, \n",
    "         w1=FloatSlider(min=-5, max=5, value=1., step=0.5),\n",
    "         w2=FloatSlider(min=-5, max=5, value=-1., step=0.51),\n",
    "         w0=FloatSlider(min=-5, max=5, value=0., step=0.5))"
   ]
  },
  {
   "cell_type": "markdown",
   "metadata": {
    "slideshow": {
     "slide_type": "subslide"
    }
   },
   "source": [
    "## Another formulation with Margin\n",
    "\n",
    "Using the property $1-\\sigma(z)=\\sigma(-z)$ obtain that \n",
    "$$\n",
    "p(y=+1|x)=\\sigma(w^{T}x+w_0)\\Longrightarrow p(y=-1|x)=\\sigma(-w^{T}x - w_0)\n",
    "$$\n",
    "\n",
    "So for $y\\in\\{+1,-1\\}$\n",
    "$$\n",
    "p(y|x)=\\sigma(y(\\langle w,x\\rangle + w_0)) \n",
    "$$\n",
    "\"probability of correct classification\"\n",
    "\n",
    "Therefore ML estimation can be written as:\n",
    "$$\n",
    "\\prod_{n=1}^{N}\\sigma( y_{n}(\\langle w,x_{n}\\rangle + w_0))\\to\\max_{w}\n",
    "$$"
   ]
  },
  {
   "cell_type": "markdown",
   "metadata": {
    "slideshow": {
     "slide_type": "subslide"
    }
   },
   "source": [
    "## Loss function for binary logistic regression\n",
    "\n",
    "For binary classification $p(y|x)=\\sigma(y(\\langle w,x\\rangle + w_0))$\n",
    "\n",
    "Estimation with ML:\n",
    "\n",
    "$$\n",
    "\\prod_{n=1}^{N}\\sigma(y_n(\\langle w,x_n\\rangle + w_0)) = \\prod_{n=1}^{N}\\sigma(y_n g(x_n)) \\to\\max_{w}\n",
    "$$\n",
    "\n",
    "which is equivalent to \n",
    "$$\n",
    "\\sum_{n=1}^{N}\\ln(1+e^{-y_ng(x_n)})\\to\\min_{w}\n",
    "$$\n",
    "\n",
    "It follows that logistic regression is linear discriminant\n",
    "estimated with loss function $\\mathcal{L}(M)=\\ln(1+e^{-M})$."
   ]
  },
  {
   "cell_type": "markdown",
   "metadata": {
    "slideshow": {
     "slide_type": "subslide"
    }
   },
   "source": [
    "<center><img src=\"img/Logistic loss function.png\"></center>\n"
   ]
  },
  {
   "cell_type": "markdown",
   "metadata": {
    "slideshow": {
     "slide_type": "subslide"
    }
   },
   "source": [
    "# Multiclass classification with binary classifiers"
   ]
  },
  {
   "cell_type": "markdown",
   "metadata": {
    "slideshow": {
     "slide_type": "subslide"
    }
   },
   "source": [
    "## Multiclass classification with binary classifiers\n",
    "* Task - make $C$-class classification using many binary classifiers.\n",
    "* Approaches:\n",
    "\n",
    "    * **one-versus-all**\n",
    "        * for each $c=1,2,...C$ train binary classifier on all objects and output $\\mathbb{I}[y_{n}=c]$, \n",
    "        * assign class, getting the highest score in resulting $C$ classifiers.\n",
    "\n",
    "    * **one-versus-one**\n",
    "        * for each $i,j\\in[1,2,...C],$ $i\\ne j$ learn on objects with $y_{n}\\in\\{i,j\\}$ with output $y_{n}$\n",
    "        * assign class, getting the highest score in resulting $C(C-1)/2$ classifiers.\n",
    "        "
   ]
  },
  {
   "cell_type": "markdown",
   "metadata": {
    "slideshow": {
     "slide_type": "subslide"
    }
   },
   "source": [
    "## Binary linear classifier\n",
    "\n",
    "* For two classes $y\\in\\{+1,-1\\}$ classifier becomes\n",
    "$$\n",
    "\\widehat{y}(x)=\\begin{cases}\n",
    "+1, & w_{+1}^{T}x+w_{+1,0}>w_{-1}^{T}x+w_{-1,0}\\\\\n",
    "-1 & \\text{otherwise}\n",
    "\\end{cases}\n",
    "$$\n",
    "* This decision rule is equivalent to \n",
    "$$\n",
    "\\begin{align*}\n",
    "\\widehat{y}(x) & =sign(w_{+1}^{T}x+w_{+1,0}-w_{-1}^{T}x+w_{-1,0})=\\\\\n",
    " & =sign\\left(\\left(w_{+1}^{T}-w_{-1}^{T}\\right)x+\\left(w_{+1,0}-w_{-1,0}\\right)\\right)\\\\\n",
    " & =sign\\left(w^{T}x+w_{0}\\right)\n",
    "\\end{align*}\n",
    "$$\n",
    "for $w=w_{+1}-w_{-1},\\,w_{0}=w_{+1,0}-w_{-1,0}$.\n",
    "* Decision boundary $w^{T}x+w_{0}=0$ is linear.\n",
    "* Multiclass case can be solved using multiple binary classifiers with one-vs-all, one-vs-one\n",
    "    * can you imagine faulty situation with those approaches for linear classifiers?"
   ]
  },
  {
   "cell_type": "markdown",
   "metadata": {
    "slideshow": {
     "slide_type": "subslide"
    }
   },
   "source": [
    "<center><img src='img/one versus all ambiguity.png'></center>\n"
   ]
  },
  {
   "cell_type": "markdown",
   "metadata": {
    "slideshow": {
     "slide_type": "subslide"
    }
   },
   "source": [
    "<center><img src='img/one versus one ambiguity.png'></center>"
   ]
  },
  {
   "cell_type": "markdown",
   "metadata": {
    "slideshow": {
     "slide_type": "subslide"
    }
   },
   "source": [
    "## Linear classifier for multiple classes\n",
    "\n",
    "* Classification among classes $1,2,\\dots,C$. \n",
    "* Use $C$ discriminant functions $g_{c}(x)=w_{c}^{T}x+w_{c0}$\n",
    "* Decision rule:\n",
    "$$\n",
    "\\widehat{y}(x)=\\arg\\max_{c}g_{c}(x)\n",
    "$$\n",
    "* Decision boundary between classes $y=i$ and $y=j$ is linear:\n",
    "$$\n",
    "\\left(w_{i}-w_{j}\\right)^{T}x+\\left(w_{i0}-w_{j0}\\right)=0\n",
    "$$\n",
    "* Decision regions are convex"
   ]
  },
  {
   "cell_type": "markdown",
   "metadata": {
    "slideshow": {
     "slide_type": "subslide"
    }
   },
   "source": [
    "## Logistic regression for multiple classes\n",
    "\n",
    "Each class has a set of weights:\n",
    "$$\n",
    "\\begin{cases}\n",
    "score(\\omega_{1}|x)=w_{1}^{T}x + w_{0,1} \\\\\n",
    "score(\\omega_{2}|x)=w_{2}^{T}x + w_{0,2}\\\\\n",
    "\\cdots\\\\\n",
    "score(\\omega_{C}|x)=w_{C}^{T}x + + w_{0,C}\n",
    "\\end{cases}\n",
    "$$\n",
    "\n",
    "+relationship between score and class probability is assumed:\n",
    "\n",
    "$$\n",
    "p(\\omega_{c}|x)=softmax(\\omega_c|W, x)=\\frac{exp(w_{c}^{T}x + w_{0,c})}{\\sum_{i}exp(w_{i}^{T}x + w_{0,i})}\n",
    "$$\n"
   ]
  },
  {
   "cell_type": "markdown",
   "metadata": {
    "slideshow": {
     "slide_type": "subslide"
    }
   },
   "source": [
    "**Estimation with ML:**\n",
    "$$\n",
    "\\prod_{n=1}^{N}\\prod_{c=1}^{C} softmax(\\omega_c|W, x_n)^{\\mathbb{I}[y_n = w_c]}\n",
    "$$\n",
    "\n",
    "Which would lead us to cross-entropy loss function\n",
    "$$L(w) = - \\sum_{n=1}^N\\sum_{c=1}^{C} \\mathbb{I}[y_n = w_c]\\cdot\\ln{\\sigma(w_c^{T}x_n+w_{c,0}))}$$"
   ]
  },
  {
   "cell_type": "markdown",
   "metadata": {
    "slideshow": {
     "slide_type": "subslide"
    }
   },
   "source": [
    "## Summary\n",
    "\n",
    "* Linear classifier - classifier with linear discriminant functions.\n",
    "* Binary linear classifier: $\\widehat{y}(x)=sign(w^{T}x+w_{0})$.\n",
    "* Perceptron, logistic, SVM - linear classifiers estimated with different loss functions.\n",
    "* Weights are selected to minimize total loss on margins.\n",
    "* Regularization gives smooth control over model complexity.\n",
    "* $L_{1}$ regularization automatically selects features."
   ]
  },
  {
   "cell_type": "markdown",
   "metadata": {
    "slideshow": {
     "slide_type": "slide"
    }
   },
   "source": [
    "# References\n",
    "*  Elements of Statistical Learning (Trevor Hastie, Robert Tibshirani, Jerome Friedman) - Chapter 4.4\n",
    "*  Pattern Recognition and Machine Learning (Christopher M. Bishop) - Chapter 4"
   ]
  }
 ],
 "metadata": {
  "_draft": {
   "nbviewer_url": "https://gist.github.com/1f8c4751e12938961e423759861e6e5a"
  },
  "anaconda-cloud": {},
  "celltoolbar": "Slideshow",
  "gist": {
   "data": {
    "description": "CloudMail/hse-da-course/raw/lecture-intro/lecture-intro-v01.ipynb",
    "public": false
   },
   "id": "1f8c4751e12938961e423759861e6e5a"
  },
  "kernelspec": {
   "display_name": "Python 3",
   "language": "python",
   "name": "python3"
  },
  "language_info": {
   "codemirror_mode": {
    "name": "ipython",
    "version": 3
   },
   "file_extension": ".py",
   "mimetype": "text/x-python",
   "name": "python",
   "nbconvert_exporter": "python",
   "pygments_lexer": "ipython3",
   "version": "3.7.3"
  },
  "livereveal": {
   "theme": "serif",
   "transition": "concave"
  },
  "nav_menu": {},
  "toc": {
   "base_numbering": 1,
   "nav_menu": {
    "height": "513px",
    "width": "253px"
   },
   "number_sections": false,
   "sideBar": false,
   "skip_h1_title": false,
   "title_cell": "Table of Contents",
   "title_sidebar": "Contents",
   "toc_cell": false,
   "toc_position": {},
   "toc_section_display": "block",
   "toc_window_display": false
  },
  "toc_position": {
   "height": "32px",
   "left": "9px",
   "right": "1379px",
   "top": "33px",
   "width": "212px"
  },
  "widgets": {
   "state": {
    "54e80d57f79b4bfc934a2b84cf5fe7ba": {
     "views": [
      {
       "cell_index": 47
      }
     ]
    },
    "5fb17a3592634a4fba98446dacd6db43": {
     "views": [
      {
       "cell_index": 11
      }
     ]
    },
    "6f6f6ce7b81743308b92966f225862a8": {
     "views": [
      {
       "cell_index": 34
      }
     ]
    }
   },
   "version": "1.2.0"
  }
 },
 "nbformat": 4,
 "nbformat_minor": 2
}
