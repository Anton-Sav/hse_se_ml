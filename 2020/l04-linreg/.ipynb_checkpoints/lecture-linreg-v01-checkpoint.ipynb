{
 "cells": [
  {
   "cell_type": "markdown",
   "metadata": {
    "slideshow": {
     "slide_type": "slide"
    }
   },
   "source": [
    "<center><img src=\"img/logo_hse_black.jpg\"></center>\n",
    "\n",
    "<h1><center>Data Analysis</center></h1>\n",
    "<h3><center>Andrey Shetakov (<a href=\"mailto:avshestakov@hse.ru\">avshestakov@hse.ru</a>)</center></h3>\n",
    "<hr>\n",
    "<h2><center>Linear regression. Gradient-based optimization<sup><a href=\"#fn1\" id=\"ref1\">1</a></sup></center></h2>\n",
    "\n",
    "\n",
    "\n",
    "<sup id=\"fn1\">1. Some materials are taken from <a href=\"http://www.machinelearning.ru/wiki/index.php?title=%D0%9C%D0%B0%D1%82%D0%B5%D0%BC%D0%B0%D1%82%D0%B8%D1%87%D0%B5%D1%81%D0%BA%D0%B8%D0%B5_%D0%BC%D0%B5%D1%82%D0%BE%D0%B4%D1%8B_%D1%80%D0%B0%D1%81%D0%BF%D0%BE%D0%B7%D0%BD%D0%B0%D0%B2%D0%B0%D0%BD%D0%B8%D1%8F_%D0%BE%D0%B1%D1%80%D0%B0%D0%B7%D0%BE%D0%B2_%28%D0%BA%D1%83%D1%80%D1%81_%D0%BB%D0%B5%D0%BA%D1%86%D0%B8%D0%B9%2C_%D0%92.%D0%92.%D0%9A%D0%B8%D1%82%D0%BE%D0%B2%29\">machine learning course of Victor Kitov</a></sup>"
   ]
  },
  {
   "cell_type": "code",
   "execution_count": 2,
   "metadata": {
    "collapsed": true,
    "slideshow": {
     "slide_type": "notes"
    }
   },
   "outputs": [],
   "source": [
    "import pandas as pd\n",
    "import numpy as np\n",
    "import matplotlib.pyplot as plt\n",
    "\n",
    "%matplotlib inline\n",
    "\n",
    "plt.style.use('seaborn-talk')\n",
    "plt.rcParams['figure.figsize'] = (12,8)\n",
    "\n",
    "# Для кириллицы на графиках\n",
    "font = {'family': 'Verdana',\n",
    "        'weight': 'normal'}\n",
    "plt.rc('font', **font)\n",
    "\n",
    "try:\n",
    "    from ipywidgets import interact, IntSlider, fixed, FloatSlider\n",
    "except ImportError:\n",
    "    print u'Так надо'\n",
    "    \n",
    "import warnings\n",
    "warnings.filterwarnings('ignore')"
   ]
  },
  {
   "cell_type": "markdown",
   "metadata": {
    "slideshow": {
     "slide_type": "slide"
    }
   },
   "source": [
    "# Let's recall previous lecture\n",
    "\n",
    "* Decision trees\n",
    "    * Utilize the notion of impurity\n",
    "    * Work both for classification and regression\n",
    "* Implicit feature selection\n",
    "    * good for features of different nature\n",
    "* Non-parallel to axes class separating boundary\n",
    "* Local greedy optimizaion\n",
    "* Sensitive to even tiny data pertubations"
   ]
  },
  {
   "cell_type": "markdown",
   "metadata": {
    "slideshow": {
     "slide_type": "slide"
    }
   },
   "source": [
    "# Linear regression"
   ]
  },
  {
   "cell_type": "code",
   "execution_count": 3,
   "metadata": {},
   "outputs": [],
   "source": [
    "df_auto = pd.read_csv('http://bit.ly/1gIQs6C')"
   ]
  },
  {
   "cell_type": "code",
   "execution_count": 4,
   "metadata": {},
   "outputs": [
    {
     "data": {
      "text/plain": [
       "<matplotlib.axes._subplots.AxesSubplot at 0x10fa8d590>"
      ]
     },
     "execution_count": 4,
     "metadata": {},
     "output_type": "execute_result"
    },
    {
     "data": {
      "image/png": "[encoded data removed]",
      "text/plain": [
       "<matplotlib.figure.Figure at 0x10be09fd0>"
      ]
     },
     "metadata": {},
     "output_type": "display_data"
    }
   ],
   "source": [
    "df_auto.plot(x='mileage', y='price', kind='scatter')"
   ]
  },
  {
   "cell_type": "markdown",
   "metadata": {},
   "source": [
    "<center><img src='https://imgs.xkcd.com/comics/linear_regression.png'></center>"
   ]
  },
  {
   "cell_type": "markdown",
   "metadata": {},
   "source": [
    "## Linear regression\n",
    "\n",
    "* Linear model $f(x,\\beta)=x^{T}\\beta=\\sum_{i=1}^{D}\\beta_{i}x^{i}$\n",
    "* Define $X\\in\\mathbb{R}^{NxD},\\{X\\}_{ij}$ defines the $j$-th feature of $i$-th object, $Y\\in\\mathbb{R}^{n}$, $\\{Y\\}_{i}$ - target value\n",
    "for $i$-th object.\n",
    "* Ordinary least squares (OLS) method:\n",
    "$$\n",
    "\\sum_{n=1}^{N}\\left(x^{T}\\beta-y_{n}\\right)^{2}=\\sum_{n=1}^{N}\\left(\\sum_{d=1}^{D}\\beta_{d}x_{n}^{d}-y_{n}\\right)^{2}\\to\\min_{\\beta}\n",
    "$$"
   ]
  },
  {
   "cell_type": "markdown",
   "metadata": {},
   "source": [
    "## Solution\n",
    "\n",
    "Stationarity condition:\n",
    "\n",
    "$$\n",
    "2\\sum_{n=1}^{N}x_{n}\\left(\\sum_{d=1}^{D}\\beta_{d}x_{n}^{d}-y_{n}\\right)=0\n",
    "$$\n",
    "\n",
    "In matrix form:\n",
    "$$\n",
    "2X^{T}(X\\beta-Y)=0\n",
    "$$\n",
    "\n",
    "so\n",
    "\n",
    "$$\n",
    "\\widehat{\\beta}=(X^{T}X)^{-1}X^{T}Y\n",
    "$$"
   ]
  },
  {
   "cell_type": "markdown",
   "metadata": {},
   "source": [
    "## Comments\n",
    "* This is the global minimum, because the optimized criteria is convex.\n",
    "* Geometric interpretation:\n",
    "    * find linear combination of feature measurements that best reproduce $Y$\n",
    "    * solution - combinaton of features, giving projection of $Y$ on linear span of feature measurements."
   ]
  },
  {
   "cell_type": "markdown",
   "metadata": {},
   "source": [
    "## Linearly dependent features\n",
    "\n",
    "* Solution $\\widehat{\\beta}=(X^{T}X)^{-1}X^{T}Y$ exists when $X^{T}X$ is non-degenerate\n",
    "* Problem occurs when one of the features is a linear combination of the other\n",
    "    * because of the property $\\forall X:\\,rank(X)=rank(X^{T}X)$\n",
    "    * example: constant unity feature $c$ and one-hot-encoding $e_{1},e_{2},...e_{K}$, because $\\sum_{k}e_{k}\\equiv c$ \n",
    "    * interpretation: non-identifiability of $\\widehat{\\beta}$ for linearly dependent features:\n",
    "        * linear dependence: $\\exists\\alpha:\\,x^{T}\\alpha=0\\,\\forall x$\n",
    "        * suppose $\\beta$ solves linear regression $y=x^{T}\\beta$\n",
    "        * then $x^{T}\\beta\\equiv x^{T}\\beta+kx^{T}\\alpha\\equiv x^{T}(\\beta+k\\alpha)$, so $\\beta+k\\alpha$ is also a solution! "
   ]
  },
  {
   "cell_type": "markdown",
   "metadata": {},
   "source": [
    "## Linearly dependent features\n",
    "* Problem may be solved by: \n",
    "     * feature selection\n",
    "     * dimensionality reduction\n",
    "     * imposing additional requirements on the solution (regularization) "
   ]
  },
  {
   "cell_type": "markdown",
   "metadata": {},
   "source": [
    "## Analysis of linear regression\n",
    "\n",
    "**Advantages:**\n",
    "\n",
    "* single optimum, which is global (for non-singular matrix)\n",
    "* analytical solution\n",
    "* interpretable solution and algorithm\\linebreak{}\n",
    "\n",
    "**Drawbacks:**\n",
    "* too simple model assumptions (may not be satisfied)\n",
    "* $X^{T}X$ should be non-degenerate (and well-conditioned)"
   ]
  },
  {
   "cell_type": "markdown",
   "metadata": {},
   "source": [
    "# Nonlinear dependencies"
   ]
  },
  {
   "cell_type": "markdown",
   "metadata": {},
   "source": [
    "## Generalization by nonlinear transformations\n",
    "\n",
    "Nonlinearity by $x$ in linear regression may be achieved by applying\n",
    "non-linear transformations to the features:\n",
    "\n",
    "$$\n",
    "x\\to[\\phi_{0}(x),\\,\\phi_{1}(x),\\,\\phi_{2}(x),\\,...\\,\\phi_{M}(x)]\n",
    "$$\n",
    "\n",
    "$$\n",
    "f(x)=\\mathbf{\\phi}(x)^{T}\\beta=\\sum_{m=0}^{M}\\beta_{m}\\phi_{m}(x)\n",
    "$$\n",
    "\n",
    "The model remains to be linear in $\\beta$, so all advantages of linear\n",
    "regression remain."
   ]
  },
  {
   "cell_type": "markdown",
   "metadata": {},
   "source": [
    "## Typical transformations\n",
    "\n",
    "* $x^{i}\\in[a,b]$ : binarization of feature\n",
    "* $x^{i}x^{j}$ : interaction of features\n",
    "* $\\exp\\left\\{ -\\gamma\\left\\lVert x-\\tilde{x}\\right\\rVert ^{2}\\right\\} $ : closeness to reference point $\\tilde{x}$ \n",
    "* $\\ln x_{k}$ : the alignment of the distribution with heavy tails\n",
    "* $F^{-1}(x_{k})$ : conversion of atypical continious distribution to uniform\n"
   ]
  },
  {
   "cell_type": "markdown",
   "metadata": {},
   "source": [
    "## Non-linear regression\n",
    "\n",
    "* Alternatively we can model $\\mathcal{X}\\to\\mathcal{Y}$ with arbitrary non-linear function $\\widehat{y}=f(x|\\theta)$\n",
    "$$\n",
    "L(\\theta|X,Y)=\\sum_{n=1}^{N}\\left(f(x_{n}|\\theta)-y_{n}\\right)^{2}\n",
    "$$\n",
    "\n",
    "$$\n",
    "\\widehat{\\theta}=\\arg\\min_{\\theta}L(\\theta|X,Y)\n",
    "$$\n",
    "\n",
    "* No analytical solution for $\\widehat{\\theta}$ will exist in general\n",
    "     * need numeric optimization methods."
   ]
  },
  {
   "cell_type": "markdown",
   "metadata": {},
   "source": [
    "# Regularization \\& restrictions"
   ]
  },
  {
   "cell_type": "markdown",
   "metadata": {},
   "source": [
    "## Regularization \n",
    "\n",
    "* Insert additional requirement for regularizer $R(\\beta)$ to be small:\n",
    "$$\n",
    "\\sum_{n=1}^{N}\\left(x_{n}^{T}\\beta-y_{n}\\right)^{2}+\\lambda R(\\beta)\\to\\min_{\\beta}\n",
    "$$\n",
    "* $\\lambda>0$ - hyperparameter.\n",
    "* $R(\\beta)$ penalizes complexity of models.\n",
    "$$\n",
    "\\begin{array}{ll}\n",
    "R(\\beta)=||\\beta||_{1} & \\mbox{Lasso regression}\\\\\n",
    "R(\\beta)=||\\beta||_{2}^{2} & \\text{Ridge regression}\n",
    "\\end{array}\n",
    "$$\n",
    "\n",
    "\n",
    "* Not only \\textit{accuracy} matters for the solution but also \\textit{model simplicity}!\n",
    "* $\\lambda$ controls complexity of the model:\\pause$\\uparrow\\lambda\\Leftrightarrow\\text{complexity}$$\\downarrow$.\n"
   ]
  },
  {
   "cell_type": "markdown",
   "metadata": {},
   "source": [
    "## Comments\n",
    "* Dependency of $\\beta$ from $\\lambda$ for ridge (A) and LASSO (B):\n",
    "<center><img src=\"img/regularization paths.png\"></center>\n",
    "\n",
    "* LASSO can be used for automatic feature selection.\n",
    "* $\\lambda$ is usually found using cross-validation on exponential grid, e.g. $[10^{-6},10^{-5},...10^{5},10^{6}]$.\n",
    "* It's always recommended to use regularization because \n",
    "    * it gives smooth control over model complexity.\n",
    "    * reduces ambiguity for multiple solutions case."
   ]
  },
  {
   "cell_type": "markdown",
   "metadata": {},
   "source": [
    "## ElasticNet\n",
    "* ElasticNet:\n",
    "\n",
    "$$\n",
    "R(\\beta)=\\alpha||\\beta||_{1}+(1-\\alpha)||\\beta||_{2}^{2}\\to\\min_{\\beta}\n",
    "$$\n",
    "$\\alpha\\in(0,1)$ - hyperparameter, controlling impact of each part. \n",
    "\n",
    "* If two features $x^{i}$and $x^{j}$ are equal: \n",
    "    * LASSO may take only one of them\n",
    "    * Ridge will take both with equal weight\n",
    "        * but it doesn't remove useless features\n",
    "* ElasticNet both removes useless features but gives equal weight for usefull equal features\n",
    "    * good, because feature equality may be due to chance on this particular training set"
   ]
  },
  {
   "cell_type": "markdown",
   "metadata": {},
   "source": [
    "## Ridge regression solution\n",
    "\n",
    "Ridge regression criterion\n",
    "$$\n",
    "\\sum_{n=1}^{N}\\left(x_{n}^{T}\\beta-y_{n}\\right)^{2}+\\lambda\\beta^{T}\\beta\\to\\min_{\\beta}\n",
    "$$\n",
    "\n",
    "Stationarity condition can be written as:\n",
    "\n",
    "$$\n",
    "\\begin{gathered}2\\sum_{n=1}^{N}x_{n}\\left(x_{n}^{T}\\beta-y_{n}\\right)+2\\lambda\\beta=0\\\\\n",
    "2X^{T}(X\\beta-Y)+\\lambda\\beta=0\\\\\n",
    "\\left(X^{T}X+\\lambda I\\right)\\beta=X^{T}Y\n",
    "\\end{gathered}\n",
    "$$\n",
    "\n",
    "so\n",
    "\n",
    "$$\n",
    "\\widehat{\\beta}=(X^{T}X+\\lambda I)^{-1}X^{T}Y\n",
    "$$"
   ]
  },
  {
   "cell_type": "markdown",
   "metadata": {},
   "source": [
    "## Comments\n",
    "* $X^{T}X+\\lambda I$ is always non-degenerate as a sum of: \n",
    "    * non-negative definite $X^{T}X$\n",
    "    * positive definite $\\lambda I$\n",
    "\n",
    "\n",
    "* Intuition:\n",
    "    * out of all valid solutions select one giving simplest model\n",
    "* Other regularizations also restrict the set of solutions."
   ]
  },
  {
   "cell_type": "markdown",
   "metadata": {},
   "source": [
    "## Different account for different features\n",
    "\n",
    "* Traditional approach regularizes all features uniformly:\n",
    "$$\n",
    "\\sum_{n=1}^{N}\\left(x_{n}^{T}\\beta-y_{n}\\right)^{2}+\\lambda R(\\beta)\\to\\min_{w}\n",
    "$$\n",
    "* Suppose we have $K$ groups of features with indices:\n",
    "$$\n",
    "I_{1},I_{2},...I_{K}\n",
    "$$\n",
    "* We may control the impact of each group on the model by:\n",
    "$$\n",
    "\\sum_{n=1}^{N}\\left(x_{n}^{T}\\beta-y_{n}\\right)^{2}+\\lambda_{1}R(\\{\\beta_{i}|i\\in I_{1}\\})+...+\\lambda_{K}R(\\{\\beta_{i}|i\\in I_{K}\\})\\to\\min_{w}\n",
    "$$\n",
    "* $\\lambda_{1},\\lambda_{2},...\\lambda_{K}$ can be set using cross-validation\n",
    "* In practice use common regularizer but with different feature scaling."
   ]
  },
  {
   "cell_type": "markdown",
   "metadata": {},
   "source": [
    "# Different loss-functions"
   ]
  },
  {
   "cell_type": "markdown",
   "metadata": {},
   "source": [
    "## Idea\n",
    "* Generalize quadratic to arbitrary loss:\n",
    "$$\n",
    "\\sum_{n=1}^{N}\\left(x^{T}\\beta-y_{n}\\right)^{2}\\to\\min_{\\beta}\\qquad\\Longrightarrow\\qquad\\sum_{n=1}^{N}\\mathcal{L}(x_{n}^{T}\\beta-y_{n})\\to\\min_{\\beta}\n",
    "$$\n",
    "\n",
    "$$\n",
    "\\begin{array}{lll}\n",
    "\\textbf{LOSS} & \\textbf{NAME} & \\textbf{PROPERTIES}\\\\\n",
    "\\mathcal{L}(\\varepsilon)=\\varepsilon^{2} & \\text{quadratic} & \\text{differentiable}\\\\\n",
    "\\mathcal{L}(\\varepsilon)=\\left|\\varepsilon\\right| & \\text{absolute} & \\text{robust}\\\\\n",
    "\\mathcal{L}(\\varepsilon)=\\begin{cases}\n",
    "\\frac{1}{2}\\varepsilon^{2}, & \\left|\\varepsilon\\right|\\le\\delta\\\\\n",
    "\\delta\\left(\\left|\\varepsilon\\right|-\\frac{1}{2}\\delta\\right) & \\left|\\varepsilon\\right|>\\delta\n",
    "\\end{cases} & \\text{Huber} & \\text{differentiable, robust}\n",
    "\\end{array}\n",
    "$$\n",
    "\n",
    "* Robust means solution is robust to outliers in the training set."
   ]
  },
  {
   "cell_type": "markdown",
   "metadata": {},
   "source": [
    "\n",
    "<center><img src=\"img/Loss functions.png\"></center>"
   ]
  },
  {
   "cell_type": "markdown",
   "metadata": {},
   "source": [
    "## Loss function matters\n",
    "\n",
    "* For $y_{1},...y_{N}\\in\\mathbb{R}$ constant minimizers $\\widehat{\\mu}$:\n",
    "$$\n",
    "\\begin{align*}\n",
    "\\arg\\min_{\\mu}\\sum_{n=1}^{N}(y_{n}-\\mu)^{2} & = {\\frac{1}{N}\\sum_{n=1}^{N}y_{n}}\\\\\n",
    "\\arg\\min_{\\mu}\\sum_{n=1}^{N}\\left|y_{n}-\\mu\\right| & = {\\text{ median}\\{y_{1},...y_{N}\\}}\n",
    "\\end{align*}\n",
    "$$\n",
    "\n",
    "For $x,y\\sim P(x,y)$ and functional minimizers $f(x)$:\n",
    "$$\n",
    "\\begin{align*}\n",
    "\\arg\\min_{f(x)}\\mathbb{E}\\left\\{ \\left.\\left(f(x)-y\\right)^{2}\\right|x\\right\\}  & ={\\mathbb{E}[y|x]}\\\\\n",
    "\\arg\\min_{f(x)}\\mathbb{E}\\left\\{ \\left.|f(x)-y|\\,\\right|x\\right\\}  & =\\text{median}[y|x]\n",
    "\\end{align*}\n",
    "$$"
   ]
  },
  {
   "cell_type": "markdown",
   "metadata": {},
   "source": [
    "# Weighted account for observations"
   ]
  },
  {
   "cell_type": "markdown",
   "metadata": {},
   "source": [
    "## Weighted account for observation\n",
    "\n",
    "Weighted account for observations\n",
    "$$\n",
    "\\sum_{n=1}^{N}w_{n}(x_{n}^{T}\\beta-y_{n})^{2}\n",
    "$$\n",
    "\n",
    "* Weights may be:\n",
    "* increased for incorrectly predicted objects \n",
    "    * algorithm becomes more oriented on error correction\n",
    "* decreased for incorrectly predicted objects \n",
    "    * they may be considered outliers that break our model"
   ]
  },
  {
   "cell_type": "markdown",
   "metadata": {},
   "source": [
    "## Solution for weighted regression\n",
    "\n",
    "$$\n",
    "\\sum_{n=1}^{N}w_{n}\\left(x_{n}^{T}\\beta-y_{n}\\right)^{2}\\to\\min_{\\beta\\in\\mathbb{R}}\n",
    "$$\n",
    "\n",
    "Stationarity condition:\n",
    "$$\n",
    "\\sum_{n=1}^{N}w_{n}x_{n}^{d}\\left(x_{n}^{T}\\beta-y_{n}\\right)=0\n",
    "$$\n",
    "\n",
    "Define $\\{X\\}_{n,d}=x_{n}^{d}$, $W=diag\\{w_{1},...x_{N}\\}$. Then\n",
    "\n",
    "$$\n",
    "X^{T}W\\left(X\\beta-Y\\right)=0\n",
    "$$\n",
    "$$\n",
    "\\beta=\\left(X^{T}WX\\right)^{-1}X^{T}WY\n",
    "$$"
   ]
  },
  {
   "cell_type": "markdown",
   "metadata": {},
   "source": [
    "## Robust regression\n",
    "\n",
    "* Initialize $w_{1}=...=w_{N}=1/N$\n",
    "\n",
    "* Repeat:\n",
    "    * estimate regression $\\widehat{y}(x)$ using observations $(x_{i},y_{i})$ with weights $w_{i}$.\n",
    "    * for each $i=1,2,...N$:\n",
    "        * re-estimate $\\varepsilon_{i}=\\widehat{y}(x_{i})-y_{i}$\n",
    "        * recalculate $w_{i}=K\\left(\\left|\\varepsilon_{i}\\right|\\right)$ \n",
    "    * normalize weights $w_{i}=\\frac{w_{i}}{\\sum_{n=1}^{N}w_{n}}$\\linebreak{}\n",
    "\n",
    "**Comments:** $K(\\cdot)$ is some \\textit{decreasing} function, repetition may be \n",
    "    * predefined number of times\n",
    "    * until convergence of model parameters."
   ]
  },
  {
   "cell_type": "markdown",
   "metadata": {},
   "source": [
    "## Example\n",
    "\n",
    "<center><img src=\"img/data with outliers.png\"></center>"
   ]
  },
  {
   "cell_type": "markdown",
   "metadata": {},
   "source": [
    "# Nadaraya-Watson regression"
   ]
  },
  {
   "cell_type": "markdown",
   "metadata": {},
   "source": [
    "## Minimum squared error estimate\n",
    "\n",
    "For training sample $\\left(x_{1},y_{1}\\right),...\\left(x_{N},y_{N}\\right)$ consider finding constant $\\widehat{y}\\in\\mathbb{R}$\n",
    "$$\n",
    "L(\\alpha)=\\sum_{i=1}^{N}(\\widehat{y}-y_{i})^{2}\\to\\min_{\\widehat{y}\\in\\mathbb{R}}\n",
    "$$\n",
    "$$\n",
    "\\frac{\\partial L}{\\partial\\alpha}=2\\sum_{i=1}^{N}\\left(\\widehat{y}-y_{i}\\right)=0\\text{, so }\\widehat{y}=\\frac{1}{N}\\sum_{i=1}^{N}y_{i}\n",
    "$$\n",
    "We need to model general curve $y(x)$:\n",
    "\n",
    "<center><img src=\"img/non-linear regression.png\"></center>\n",
    "\n"
   ]
  },
  {
   "cell_type": "markdown",
   "metadata": {},
   "source": [
    "Nadaraya-Watson regression - localized averaging approach.\n",
    "\n",
    "<center><img src=\"img/non-linear regression - explanation.png\"></center>"
   ]
  },
  {
   "cell_type": "markdown",
   "metadata": {},
   "source": [
    "## Nadaraya-Watson regression\n",
    "\n",
    "* Equivalent names: local constant regression, kernel regression\n",
    "* For each $x$ assume $f(x)=const=\\alpha,\\,\\alpha\\in\\mathbb{R}$.\n",
    "$$\n",
    "Q(\\alpha,X_{training})=\\sum_{i=1}^{N}w_{i}(x)(\\alpha-y_{i})^{2}\\to\\min_{\\alpha\\in\\mathbb{R}}\n",
    "$$\n",
    "* Weights depend on the proximity of training objects to the predicted object:\n",
    "\n",
    "$$\n",
    "w_{i}(x)=K\\left(\\frac{\\rho(x,x_{i})}{h}\\right)\n",
    "$$\n",
    "\n",
    "* $K(u)$ - some decreasing function, called kernel.\n",
    "* $h(x)$ - some $\\ge0$ function called bandwidth. \n",
    "    * Intuition: ``window width'', consider $h(x)=h,\\,K(u)=\\mathbb{I}[u\\le1].$"
   ]
  },
  {
   "cell_type": "markdown",
   "metadata": {},
   "source": [
    "## Parameters\n",
    "* Typically used $K(u)$\\footnote{Compare them in terms of required computation.}:\n",
    "$$\n",
    "\\begin{eqnarray*}\n",
    "K_{G}(u) & = & e^{-\\frac{1}{2}u^{2}}-\\text{Gaussian kernel}\\\\\n",
    "K_{P}(u) & = & (1-u^{2})^{2}\\mathbb{I}[|u|<1]-\\text{quartic kernel}\n",
    "\\end{eqnarray*}\n",
    "$$\n",
    "* Typically used $h(x)$:\n",
    "    * $h(x)=const$\n",
    "    * $h(x)=\\rho(x,x_{i_{K}})$, where $x_{i_{K}}$ - $K$-th nearest neighbour.\n",
    "        * better for unequal distribution of objects"
   ]
  },
  {
   "cell_type": "markdown",
   "metadata": {},
   "source": [
    "## Solution\n",
    "$$\n",
    "\\begin{align*}\n",
    "Q(\\alpha,X_{training}) & =\\sum_{i=1}^{N}w_{i}(x)(\\alpha-y_{i})^{2}\\to\\min_{\\alpha\\in\\mathbb{R}}\\\\\n",
    "w_{i}(x) & =K\\left(\\frac{\\rho(x,x_{i})}{h(x)}\\right)\n",
    "\\end{align*}\n",
    "$$\n",
    "\n",
    "* From stationarity condition $\\frac{\\partial Q}{\\partial\\alpha}=0$ obtain optimal $\\widehat{\\alpha}(x)$:\n",
    "$$\n",
    "f(x,\\alpha)=\\widehat{\\alpha}(x)=\\frac{\\sum_{i=1}^{N}y_{i}w_{i}(x)}{\\sum_{i=1}^{N}w_{i}(x)}=\\frac{\\sum_{i=1}^{N}y_{i}K\\left(\\frac{\\rho(x,x_{i})}{h(x)}\\right)}{\\sum_{i=1}^{N}K\\left(\\frac{\\rho(x,x_{i})}{h(x)}\\right)}\n",
    "$$"
   ]
  },
  {
   "cell_type": "markdown",
   "metadata": {},
   "source": [
    "## Comments\n",
    "\n",
    "* Under general regularity conditions $g(x,\\alpha)\\overset{P}{\\to}E[y|x]$\n",
    "* The specific form of the kernel function does not affect the accuracy much.\n",
    "    * but may affect efficiency\n",
    "\n",
    "\n",
    "* Compared to K-NN: may use all objects, bandwidth controls smoothness.\n",
    "    * under what selection of $K(u)$ and $h(x)$ it reduces to basic K-NN?"
   ]
  },
  {
   "cell_type": "markdown",
   "metadata": {},
   "source": [
    "## Comments\n",
    "\n",
    "Insead of optimizing locally with constant $\\alpha$\n",
    "$$\n",
    "Q(\\alpha,X_{training})=\\sum_{i=1}^{N}w_{i}(x)({\\alpha}-y_{i})^{2}\\to\\min_{\\alpha\\in\\mathbb{R}}\n",
    "$$\n",
    "\n",
    "we could have optimized local linear regression\n",
    "$$\n",
    "Q(\\alpha,X_{training})=\\sum_{i=1}^{N}w_{i}(x)({x^{T}\\beta}-y_{i})^{2}\\to\\min_{\\alpha\\in\\mathbb{R}}\n",
    "$$\n",
    "\n",
    "This better handles approximation on the edges of domain and local extrema."
   ]
  },
  {
   "cell_type": "code",
   "execution_count": null,
   "metadata": {
    "collapsed": true
   },
   "outputs": [],
   "source": []
  }
 ],
 "metadata": {
  "_draft": {
   "nbviewer_url": "https://gist.github.com/1f8c4751e12938961e423759861e6e5a"
  },
  "anaconda-cloud": {},
  "celltoolbar": "Slideshow",
  "gist": {
   "data": {
    "description": "CloudMail/hse-da-course/raw/lecture-intro/lecture-intro-v01.ipynb",
    "public": false
   },
   "id": "1f8c4751e12938961e423759861e6e5a"
  },
  "kernelspec": {
   "display_name": "Python [conda root]",
   "language": "python",
   "name": "conda-root-py"
  },
  "language_info": {
   "codemirror_mode": {
    "name": "ipython",
    "version": 2
   },
   "file_extension": ".py",
   "mimetype": "text/x-python",
   "name": "python",
   "nbconvert_exporter": "python",
   "pygments_lexer": "ipython2",
   "version": "2.7.14"
  },
  "livereveal": {
   "theme": "serif",
   "transition": "concave",
   "width": "1024px"
  },
  "nav_menu": {},
  "toc": {
   "colors": {
    "hover_highlight": "#DAA520",
    "navigate_num": "#000000",
    "navigate_text": "#333333",
    "running_highlight": "#FF0000",
    "selected_highlight": "#FFD700",
    "sidebar_border": "#EEEEEE",
    "wrapper_background": "#FFFFFF"
   },
   "moveMenuLeft": true,
   "nav_menu": {
    "height": "513px",
    "width": "253px"
   },
   "navigate_menu": true,
   "number_sections": false,
   "sideBar": false,
   "threshold": 4,
   "toc_cell": false,
   "toc_section_display": "block",
   "toc_window_display": false,
   "widenNotebook": false
  },
  "toc_position": {
   "height": "32px",
   "left": "9px",
   "right": "1379px",
   "top": "33px",
   "width": "212px"
  },
  "widgets": {
   "state": {
    "54e80d57f79b4bfc934a2b84cf5fe7ba": {
     "views": [
      {
       "cell_index": 47
      }
     ]
    },
    "5fb17a3592634a4fba98446dacd6db43": {
     "views": [
      {
       "cell_index": 11
      }
     ]
    },
    "6f6f6ce7b81743308b92966f225862a8": {
     "views": [
      {
       "cell_index": 34
      }
     ]
    }
   },
   "version": "1.2.0"
  }
 },
 "nbformat": 4,
 "nbformat_minor": 2
}
